{
  "nbformat": 4,
  "nbformat_minor": 0,
  "metadata": {
    "colab": {
      "provenance": [],
      "authorship_tag": "ABX9TyOr9DRWornVUkI4xQF4bEfl",
      "include_colab_link": true
    },
    "kernelspec": {
      "name": "ir",
      "display_name": "R"
    },
    "language_info": {
      "name": "R"
    }
  },
  "cells": [
    {
      "cell_type": "markdown",
      "metadata": {
        "id": "view-in-github",
        "colab_type": "text"
      },
      "source": [
        "<a href=\"https://colab.research.google.com/github/abhishekvarma33/Deep-Learning---Additional-use-cases-/blob/master/Med_Analytics_EQUINIX_.ipynb\" target=\"_parent\"><img src=\"https://colab.research.google.com/assets/colab-badge.svg\" alt=\"Open In Colab\"/></a>"
      ]
    },
    {
      "cell_type": "markdown",
      "source": [
        "This Notebook includes\n",
        "1) Packages Installation for R\n",
        "2) Load Libraries\n",
        "3) Data Preparation and EDA\n",
        "4) Data Preprocessing\n",
        "5) Time series decomposition for model training\n",
        "6) Time series Forecasting\n",
        "7) Evaluation and model improvement\n",
        "8) Final Prediction, Insights and Results"
      ],
      "metadata": {
        "id": "vn_qtSu4T1Ne"
      }
    },
    {
      "cell_type": "markdown",
      "source": [
        "#1) Package Installation"
      ],
      "metadata": {
        "id": "688WoTQJUsSm"
      }
    },
    {
      "cell_type": "code",
      "execution_count": 1,
      "metadata": {
        "colab": {
          "base_uri": "https://localhost:8080/"
        },
        "id": "MyldqWm1T2cC",
        "outputId": "20ef3d13-4006-4e81-ac9a-ae90f13769a1"
      },
      "outputs": [
        {
          "output_type": "stream",
          "name": "stderr",
          "text": [
            "Installing package into ‘/usr/local/lib/R/site-library’\n",
            "(as ‘lib’ is unspecified)\n",
            "\n"
          ]
        }
      ],
      "source": [
        "install.packages('IRkernel')\n",
        "IRkernel::installspec(user = FALSE)"
      ]
    },
    {
      "cell_type": "code",
      "source": [
        "install.packages(c('forecast', 'tseries'))"
      ],
      "metadata": {
        "colab": {
          "base_uri": "https://localhost:8080/"
        },
        "id": "-IhLiXD4UtRn",
        "outputId": "6fb0d9aa-1d36-47c9-d653-8821f29c26fe"
      },
      "execution_count": null,
      "outputs": [
        {
          "output_type": "stream",
          "name": "stderr",
          "text": [
            "Installing packages into ‘/usr/local/lib/R/site-library’\n",
            "(as ‘lib’ is unspecified)\n",
            "\n",
            "also installing the dependencies ‘xts’, ‘TTR’, ‘fracdiff’, ‘lmtest’, ‘Rcpp’, ‘timeDate’, ‘urca’, ‘zoo’, ‘RcppArmadillo’, ‘quadprog’, ‘quantmod’\n",
            "\n",
            "\n"
          ]
        }
      ]
    },
    {
      "cell_type": "code",
      "source": [
        "\n",
        "# Load necessary libraries\n",
        "library(forecast)\n",
        "library(tseries)\n",
        "library(tidyverse)\n",
        "library(lubridate)\n",
        "library(readr)\n"
      ],
      "metadata": {
        "id": "yDhZBTIBUziA"
      },
      "execution_count": null,
      "outputs": []
    },
    {
      "cell_type": "markdown",
      "source": [
        "Upload CSV files and load into dataframe"
      ],
      "metadata": {
        "id": "OCC8pHmaVZuc"
      }
    },
    {
      "cell_type": "code",
      "source": [
        "# Specify the path to the uploaded CSV file\n",
        "csv_path <- \"/content/bill_amount.csv\"  # Update with the actual path\n",
        "\n",
        "# Read the CSV file into a data frame\n",
        "data_bill_amount <- read_csv(csv_path)"
      ],
      "metadata": {
        "id": "ZM_jlgcdWfBm"
      },
      "execution_count": null,
      "outputs": []
    },
    {
      "cell_type": "code",
      "source": [
        "csv_path <- \"/content/bill_id.csv\"  # Update with the actual path\n",
        "\n",
        "# Read the CSV file into a data frame\n",
        "data_bill_id <- read_csv(csv_path)"
      ],
      "metadata": {
        "id": "hqteOjz0WfEO"
      },
      "execution_count": null,
      "outputs": []
    },
    {
      "cell_type": "code",
      "source": [
        "csv_path <- \"/content/clinical_data.csv\"  # Update with the actual path\n",
        "\n",
        "# Read the CSV file into a data frame\n",
        "data_clinical <- read_csv(csv_path)"
      ],
      "metadata": {
        "id": "YD9mKomvWfGt"
      },
      "execution_count": null,
      "outputs": []
    },
    {
      "cell_type": "code",
      "source": [
        "csv_path <- \"/content/demographics.csv\"  # Update with the actual path\n",
        "\n",
        "# Read the CSV file into a data frame\n",
        "data_demographics <- read_csv(csv_path)"
      ],
      "metadata": {
        "id": "nMIhhWzdYLxR"
      },
      "execution_count": null,
      "outputs": []
    },
    {
      "cell_type": "code",
      "source": [
        "summary(data_bill_id)"
      ],
      "metadata": {
        "id": "pNUhCSL3YLz8"
      },
      "execution_count": null,
      "outputs": []
    },
    {
      "cell_type": "code",
      "source": [
        "summary(data_bill_amount)"
      ],
      "metadata": {
        "id": "BE-WcZzZYL2h"
      },
      "execution_count": null,
      "outputs": []
    },
    {
      "cell_type": "code",
      "source": [
        "summary(data_clinical)"
      ],
      "metadata": {
        "id": "U-QDWipTYL44"
      },
      "execution_count": null,
      "outputs": []
    },
    {
      "cell_type": "code",
      "source": [
        "summary(data_demographics)"
      ],
      "metadata": {
        "id": "SMhcTr9KYL7f"
      },
      "execution_count": null,
      "outputs": []
    },
    {
      "cell_type": "markdown",
      "source": [
        "Vaidating Duplicates"
      ],
      "metadata": {
        "id": "u9lpZJepVoNv"
      }
    },
    {
      "cell_type": "code",
      "source": [
        "# Check for duplicates in the entire data_bill_amount data frame\n",
        "duplicates <- duplicated(data_bill_amount$bill_id)\n",
        "\n",
        "# Display the rows with duplicates\n",
        "data_bill_amount[duplicates, ]"
      ],
      "metadata": {
        "id": "LeNrqgJvYL9x"
      },
      "execution_count": null,
      "outputs": []
    },
    {
      "cell_type": "code",
      "source": [
        "# Check for duplicates in the entire data_bill_amount data frame\n",
        "duplicates <- duplicated(data_bill_id$bill_id)\n",
        "\n",
        "# Display the rows with duplicates\n",
        "data_bill_id[duplicates, ]"
      ],
      "metadata": {
        "id": "1D_4QG6ucVH7"
      },
      "execution_count": null,
      "outputs": []
    },
    {
      "cell_type": "markdown",
      "source": [
        "Joining all CSV files to achieve a single data set"
      ],
      "metadata": {
        "id": "jBWF6hjwVtin"
      }
    },
    {
      "cell_type": "code",
      "source": [
        "\n",
        "# Perform an outer join to include all data fields\n",
        "df_bill <- merge(data_bill_id, data_bill_amount, by = \"bill_id\", all = TRUE)\n",
        "\n",
        "# Display the merged data frame\n",
        "summary(df_bill)\n"
      ],
      "metadata": {
        "id": "zRGiBJtYcVKh"
      },
      "execution_count": null,
      "outputs": []
    },
    {
      "cell_type": "markdown",
      "source": [
        "Joined bill and bill_amounts using outer join [using bill_id as primary key]\n",
        "In next step joining demographics and joined bill df [using patient id as primary key]"
      ],
      "metadata": {
        "id": "Yy0KL_uKV907"
      }
    },
    {
      "cell_type": "code",
      "source": [
        "# Perform an outer join to include all data fields\n",
        "df_bill_demo <- merge(df_bill, data_demographics, by = \"patient_id\", all = TRUE)\n",
        "\n",
        "# Display the merged data frame\n",
        "summary(df_bill_demo)"
      ],
      "metadata": {
        "id": "-lVVVMapdtOE"
      },
      "execution_count": null,
      "outputs": []
    },
    {
      "cell_type": "code",
      "source": [
        "data_clinical <- data_clinical %>%\n",
        "  rename(patient_id = id)"
      ],
      "metadata": {
        "id": "mbBzIkVJdtRM"
      },
      "execution_count": null,
      "outputs": []
    },
    {
      "cell_type": "code",
      "source": [
        "# Perform an outer join to include all data fields\n",
        "df <- merge(df_bill_demo, data_clinical, by = \"patient_id\", all = TRUE)\n",
        "\n",
        "# Display the merged data frame\n",
        "summary(df)"
      ],
      "metadata": {
        "id": "NNKw8MK1dtUO"
      },
      "execution_count": null,
      "outputs": []
    },
    {
      "cell_type": "code",
      "source": [
        "#Joined all dataframes into df and ready top use a combined dataset and perform data preparation and preprocessing"
      ],
      "metadata": {
        "id": "vwIyNJOZdtXA"
      },
      "execution_count": null,
      "outputs": []
    },
    {
      "cell_type": "code",
      "source": [
        "# Convert \"yes\" to 1 and \"no\" to 0\n",
        "df$medical_history_3 <- ifelse(tolower(df$medical_history_3) == \"yes\", 1, ifelse(tolower(df$medical_history_3) == \"no\", 0, df$medical_history_3))\n",
        "\n",
        "# Print the modified dataframe\n",
        "summary(df)"
      ],
      "metadata": {
        "id": "4eTt81NUiZ3i"
      },
      "execution_count": null,
      "outputs": []
    },
    {
      "cell_type": "code",
      "source": [
        "# Convert \"Male\" to m and \"Female\" to f\n",
        "df$gender <- ifelse(tolower(df$gender) == \"male\", 'm', ifelse(tolower(df$gender) == \"female\", 'f', df$gender))\n"
      ],
      "metadata": {
        "id": "MVBRdDkdiZ83"
      },
      "execution_count": null,
      "outputs": []
    },
    {
      "cell_type": "code",
      "source": [
        "# Convert \"India\" to Indian\n",
        "df$race <- ifelse(tolower(df$race) == \"india\", 'Indian', df$race)\n",
        "\n",
        "# Convert \"Singapore citizen\" to Singaporean\n",
        "df$resident_status <- ifelse(tolower(df$resident_status) == \"singapore citizen\", 'Singaporean', df$resident_status)"
      ],
      "metadata": {
        "id": "7maaK679iZ_F"
      },
      "execution_count": null,
      "outputs": []
    },
    {
      "cell_type": "code",
      "source": [
        "# Calculate the difference in days between admissing and discharge date to achieve no of days a patient spent in hospital\n",
        "df$days_difference <- as.numeric(difftime(df$date_of_discharge,df$date_of_admission.y, units = \"days\"))\n",
        "summary(df$days_difference)"
      ],
      "metadata": {
        "id": "7ul1QEsinsd-"
      },
      "execution_count": null,
      "outputs": []
    },
    {
      "cell_type": "code",
      "source": [
        "\n",
        "df$date_of_admission.y <- as.Date(df$date_of_admission.y)\n",
        "df$date_of_discharge <- as.Date(df$date_of_discharge)\n",
        "# Convert the date format to 'yyyy-mm-dd' using as.Date\n",
        "df$dob  <- as.Date(df$date_of_birth , format = '%d-%m-%Y')\n",
        "\n",
        "# Print the converted date\n",
        "year(df$dob)\n"
      ],
      "metadata": {
        "id": "RMfPmMYaiWod"
      },
      "execution_count": null,
      "outputs": []
    },
    {
      "cell_type": "code",
      "source": [
        "# Calculate age using date of birth and date of admission\n",
        "# Load the lubridate package\n",
        "\n",
        "df$year_birth=year(df$dob)\n",
        "df$year_adm= year(df$date_of_admission.y)\n",
        "df$age <- as.numeric(df$year_adm-df$year_birth)"
      ],
      "metadata": {
        "id": "gjQGMUUYnsi-"
      },
      "execution_count": null,
      "outputs": []
    },
    {
      "cell_type": "code",
      "source": [
        "# Group by patient_id and calculate sum(amount) and retain other fields\n",
        "result <- df %>%\n",
        "  group_by(patient_id) %>%\n",
        "  summarise(total_amount = sum(amount))\n",
        "\n",
        "# Print the result\n",
        "print(result)"
      ],
      "metadata": {
        "id": "WH2BRyjXB6nI"
      },
      "execution_count": null,
      "outputs": []
    },
    {
      "cell_type": "code",
      "source": [
        "# Merge the data frames based on patient_id\n",
        "merged_df <- result %>%\n",
        "  inner_join(df, by = \"patient_id\")"
      ],
      "metadata": {
        "id": "8Sa9MOU9B6tO"
      },
      "execution_count": null,
      "outputs": []
    },
    {
      "cell_type": "code",
      "source": [
        "head(merged_df,2)"
      ],
      "metadata": {
        "id": "2fyZF8p_B6xC"
      },
      "execution_count": null,
      "outputs": []
    },
    {
      "cell_type": "code",
      "source": [
        "head(df,5); head(merged_df,5)\n"
      ],
      "metadata": {
        "id": "CznHinXJB6zd"
      },
      "execution_count": null,
      "outputs": []
    },
    {
      "cell_type": "code",
      "source": [
        "# Calculate sum of amounts grouped by year\n",
        "sum_by_month <- df %>%\n",
        "  group_by(year = lubridate::month(date_of_admission.y)) %>%\n",
        "  summarise(total_amount_monthly = sum(amount))\n",
        "print(sum_by_month)"
      ],
      "metadata": {
        "id": "DagB7Dhhdytn"
      },
      "execution_count": null,
      "outputs": []
    },
    {
      "cell_type": "code",
      "source": [
        "# Calculate sum of amounts grouped by year\n",
        "sum_by_year <- df %>%\n",
        "  group_by(year = year_adm) %>%\n",
        "  summarise(total_amount = sum(amount))\n",
        "print(sum_by_year)"
      ],
      "metadata": {
        "id": "I6nzwz1-k6OI"
      },
      "execution_count": null,
      "outputs": []
    },
    {
      "cell_type": "code",
      "source": [
        "summary(merged_df)"
      ],
      "metadata": {
        "id": "rY7HsXjdlj7W"
      },
      "execution_count": null,
      "outputs": []
    },
    {
      "cell_type": "code",
      "source": [],
      "metadata": {
        "id": "S8LcwMWEnMKu"
      },
      "execution_count": null,
      "outputs": []
    },
    {
      "cell_type": "markdown",
      "source": [
        "#OUTLIER"
      ],
      "metadata": {
        "id": "JoHSz4K3nNfM"
      }
    },
    {
      "cell_type": "code",
      "source": [
        "filtered_data <- merged_df %>%\n",
        "  filter(amount > 122200)\n",
        "filtered_data"
      ],
      "metadata": {
        "id": "HDr0h1MBm5f0"
      },
      "execution_count": null,
      "outputs": []
    },
    {
      "cell_type": "code",
      "source": [
        "# Change the amount for patient iD which is outlier above\n",
        "merged_df <- merged_df %>%\n",
        "  mutate(amount = ifelse(patient_id == '86e3adc71c41b050f83fbe3d34d949e7', 10075, amount))\n",
        "\n",
        "# View the modified dataframe\n",
        "summary(merged_df)\n",
        "\n"
      ],
      "metadata": {
        "id": "4YxZEc9OuFL9"
      },
      "execution_count": null,
      "outputs": []
    },
    {
      "cell_type": "code",
      "source": [
        "library(tidyverse)\n",
        "merged_df %>%\n",
        "  ggplot(aes(x = date_of_discharge, y = amount)) +\n",
        "  geom_line() +\n",
        "  labs(title = \"Sales Over Time\")\n"
      ],
      "metadata": {
        "id": "VA5fvw6slkC0"
      },
      "execution_count": null,
      "outputs": []
    },
    {
      "cell_type": "code",
      "source": [
        "merged_df %>%\n",
        "  ggplot(aes(x = date_of_discharge, y = amount, color = gender)) +\n",
        "  geom_line() +\n",
        "  labs(title = \"Sales Over Time by Gender\")\n",
        "#scale_x_date(date_breaks = \"1 month\", date_labels = \"%b %Y\")  # Set monthly scale"
      ],
      "metadata": {
        "id": "5D5nSRuOmTcw"
      },
      "execution_count": null,
      "outputs": []
    },
    {
      "cell_type": "code",
      "source": [
        "merged_df %>%\n",
        "  ggplot(aes(x = date_of_discharge, y = amount)) +\n",
        "  geom_line() +\n",
        "  facet_wrap(~ gender, scales = \"free_y\") +\n",
        "  labs(title = \"Sales Over Time by Gender (Faceted)\")"
      ],
      "metadata": {
        "id": "14Wp1O_MlkFv"
      },
      "execution_count": null,
      "outputs": []
    },
    {
      "cell_type": "code",
      "source": [
        "merged_df %>%\n",
        "  ggplot(aes(x = race, y = amount, fill = race)) +\n",
        "  geom_boxplot() +\n",
        "  labs(title = \"Sales Distribution by Race\")"
      ],
      "metadata": {
        "id": "p9VqyBhvlkIc"
      },
      "execution_count": null,
      "outputs": []
    },
    {
      "cell_type": "code",
      "source": [
        "install.packages(\"forecast\")\n",
        "install.packages(\"ggplot2\")\n",
        "library(forecast)\n",
        "library(ggplot2)"
      ],
      "metadata": {
        "id": "d8YYJvlPzzjL"
      },
      "execution_count": null,
      "outputs": []
    },
    {
      "cell_type": "code",
      "source": [],
      "metadata": {
        "id": "BgvY1tebjVTT"
      },
      "execution_count": null,
      "outputs": []
    },
    {
      "cell_type": "code",
      "source": [
        "# Create a time series object\n",
        "sales_ts <- ts(merged_df$amount, frequency = 365)  # Assuming daily frequency"
      ],
      "metadata": {
        "id": "Hx3xHywmy-fl"
      },
      "execution_count": null,
      "outputs": []
    },
    {
      "cell_type": "code",
      "source": [
        "sales_ts"
      ],
      "metadata": {
        "id": "r52zCiJDeZkt"
      },
      "execution_count": null,
      "outputs": []
    },
    {
      "cell_type": "code",
      "source": [
        "\n",
        "\n",
        "library(lubridate)\n",
        "library(forecast)\n",
        "hospital_data=df\n",
        "# Convert 'date' to a proper date format\n",
        "hospital_data$date <- as.Date(hospital_data$date_of_discharge)\n",
        "\n",
        "# Group data by month and calculate total revenue\n",
        "monthly_revenue <- hospital_data %>%\n",
        "  group_by(month = floor_date(date, unit = \"month\")) %>%\n",
        "    summarise(total_revenue = sum(amount))\n"
      ],
      "metadata": {
        "id": "_77UCPZLjWWM"
      },
      "execution_count": null,
      "outputs": []
    },
    {
      "cell_type": "code",
      "source": [
        "monthly_revenue"
      ],
      "metadata": {
        "id": "zdEw4i2YjWcQ"
      },
      "execution_count": null,
      "outputs": []
    },
    {
      "cell_type": "code",
      "source": [
        "# Assuming your data frame is named 'your_data_frame'\n",
        "cleaned_data <- na.omit(monthly_revenue)"
      ],
      "metadata": {
        "id": "n5ZHkLEfmcnS"
      },
      "execution_count": null,
      "outputs": []
    },
    {
      "cell_type": "code",
      "source": [
        "#Convert to a time series object\n",
        "ts_data <- ts(cleaned_data$total_revenue, frequency = 12, start = c(year(min(cleaned_data$month)), month(min(cleaned_data$month))))"
      ],
      "metadata": {
        "id": "-ZoIGqAljWfb"
      },
      "execution_count": null,
      "outputs": []
    },
    {
      "cell_type": "code",
      "source": [
        "print(ts_data)"
      ],
      "metadata": {
        "id": "DRi_KrROm5WS"
      },
      "execution_count": null,
      "outputs": []
    },
    {
      "cell_type": "code",
      "source": [
        "c(year(max(cleaned_data$month))-1 , month(max(cleaned_data$month))+10)"
      ],
      "metadata": {
        "id": "NqruL-IboUOK"
      },
      "execution_count": null,
      "outputs": []
    },
    {
      "cell_type": "code",
      "source": [
        "c(year(min(cleaned_data$month)), month(max(cleaned_data$month)))"
      ],
      "metadata": {
        "id": "C4YTWvYN3x4T"
      },
      "execution_count": null,
      "outputs": []
    },
    {
      "cell_type": "code",
      "source": [
        "# Split data into training and test sets\n",
        "train_size <- length(ts_data)  # Assuming you're forecasting for one year\n",
        "train <- window(ts_data, end = c(year(max(cleaned_data$month)), month(max(cleaned_data$month))))\n",
        "test <- window(ts_data, start = c(year(min(cleaned_data$month)), month(max(cleaned_data$month))))\n"
      ],
      "metadata": {
        "id": "pY_a5faHjWhd"
      },
      "execution_count": null,
      "outputs": []
    },
    {
      "cell_type": "code",
      "source": [
        "# Fit an auto ARIMA model\n",
        "fit <- auto.arima(train)\n"
      ],
      "metadata": {
        "id": "i_wxMtlpjWjT"
      },
      "execution_count": null,
      "outputs": []
    },
    {
      "cell_type": "code",
      "source": [
        "# Forecasting for 12 months\n",
        "forecast <- forecast(fit, h = 12)\n"
      ],
      "metadata": {
        "id": "AbO3JZkpo1xs"
      },
      "execution_count": null,
      "outputs": []
    },
    {
      "cell_type": "code",
      "source": [
        "# Calculate performance metrics\n",
        "accuracy <- accuracy(forecast, test)\n",
        "print(accuracy)\n"
      ],
      "metadata": {
        "id": "6C6eaUizo12a"
      },
      "execution_count": null,
      "outputs": []
    },
    {
      "cell_type": "code",
      "source": [
        "forecast"
      ],
      "metadata": {
        "id": "05yNpcY3o15J"
      },
      "execution_count": null,
      "outputs": []
    },
    {
      "cell_type": "code",
      "source": [
        "         Point Forecast   Lo 80   Hi 80    Lo 95   Hi 95\n",
        "Dec 2015        1526671 1113434 1939907 894680.1 2158661\n",
        "Jan 2016        1526671 1113434 1939907 894680.1 2158661\n",
        "Feb 2016        1526671 1113434 1939907 894680.1 2158661\n",
        "Mar 2016        1526671 1113434 1939907 894680.1 2158661\n",
        "Apr 2016        1526671 1113434 1939907 894680.1 2158661\n",
        "May 2016        1526671 1113434 1939907 894680.1 2158661\n",
        "Jun 2016        1526671 1113434 1939907 894680.1 2158661\n",
        "Jul 2016        1526671 1113434 1939907 894680.1 2158661\n",
        "Aug 2016        1526671 1113434 1939907 894680.1 2158661\n",
        "Sep 2016        1526671 1113434 1939907 894680.1 2158661\n",
        "Oct 2016        1526671 1113434 1939907 894680.1 2158661\n",
        "Nov 2016        1526671 1113434 1939907 894680.1 2158661"
      ],
      "metadata": {
        "id": "DWnjAOMMo1-D"
      },
      "execution_count": null,
      "outputs": []
    },
    {
      "cell_type": "code",
      "source": [],
      "metadata": {
        "id": "CN8VYShHo2Ck"
      },
      "execution_count": null,
      "outputs": []
    }
  ]
}